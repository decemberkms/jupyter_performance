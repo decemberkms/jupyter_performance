{
 "cells": [
  {
   "cell_type": "code",
   "execution_count": 1,
   "metadata": {},
   "outputs": [],
   "source": [
    "import pandas as pd\n",
    "import numpy as np"
   ]
  },
  {
   "cell_type": "code",
   "execution_count": 9,
   "metadata": {},
   "outputs": [],
   "source": [
    "a = 100"
   ]
  },
  {
   "cell_type": "code",
   "execution_count": 10,
   "metadata": {},
   "outputs": [
    {
     "data": {
      "text/plain": [
       "123.55848876786007"
      ]
     },
     "execution_count": 10,
     "metadata": {},
     "output_type": "execute_result"
    }
   ],
   "source": [
    "# 2020  \n",
    "a = a*(100 - 1.56)/100  # 8\n",
    "a = a*(100 - 0.71)/100  # 9\n",
    "a = a*(100 - 3.62)/100  # 10 \n",
    "a = a*(100 + 26.69)/100 # 11\n",
    "a = a*(100 + 3.53)/100  # 12\n",
    "a"
   ]
  },
  {
   "cell_type": "code",
   "execution_count": 11,
   "metadata": {},
   "outputs": [
    {
     "data": {
      "text/plain": [
       "164.8654069627003"
      ]
     },
     "execution_count": 11,
     "metadata": {},
     "output_type": "execute_result"
    }
   ],
   "source": [
    "# 2021  \n",
    "a = a*(100 + 6.79)/100  # 1\n",
    "a = a*(100 + 0.21)/100  # 2\n",
    "a = a*(100 + 8.56)/100  # 3 \n",
    "a = a*(100 - 0.15)/100  # 4\n",
    "a = a*(100 - 0.40)/100   # 5\n",
    "a = a*(100 + 3.72)/100  # 6\n",
    "a = a*(100 - 0.24)/100  # 7\n",
    "a = a*(100 + 1.96)/100  # 8\n",
    "a = a*(100 - 0.79)/100  # 9\n",
    "a = a*(100 + 3.18)/100  # 10\n",
    "a = a*(100 + 2.10)/100  # 11\n",
    "a = a*(100 + 4.74)/100  # 12\n",
    "a"
   ]
  },
  {
   "cell_type": "code",
   "execution_count": 12,
   "metadata": {},
   "outputs": [
    {
     "data": {
      "text/plain": [
       "115.96182474610693"
      ]
     },
     "execution_count": 12,
     "metadata": {},
     "output_type": "execute_result"
    }
   ],
   "source": [
    "# 2022\n",
    "a = a*(100 - 0.89)/100  # 1\n",
    "a = a*(100 - 2.05)/100  # 2\n",
    "a = a*(100 + 3.81)/100  # 3\n",
    "a = a*(100 - 5.07)/100  # 4\n",
    "a = a*(100 + 0.93)/100  # 5\n",
    "a = a*(100 - 9.19)/100  # 6\n",
    "a = a*(100 + 5.90)/100  # 7\n",
    "a = a*(100 - 3.28)/100  # 8\n",
    "a = a*(100 - 9.04)/100  # 9\n",
    "a = a*(100 + 4.15)/100  # 10\n",
    "a = a*(100 - 3.57)/100  # 11\n",
    "a = a*(100 - 14.27)/100  # 12\n",
    "a"
   ]
  },
  {
   "cell_type": "code",
   "execution_count": 13,
   "metadata": {},
   "outputs": [
    {
     "data": {
      "text/plain": [
       "139.08918646443658"
      ]
     },
     "execution_count": 13,
     "metadata": {},
     "output_type": "execute_result"
    }
   ],
   "source": [
    "# 2023\n",
    "a = a*(100 + 10.78)/100  # 1\n",
    "a = a*(100 - 1.18)/100  # 2\n",
    "a = a*(100 - 2.11)/100  # 3\n",
    "a = a*(100 - 0.11)/100  # 4\n",
    "a = a*(100 + 8.67)/100  # 5\n",
    "a = a*(100 + 2.73)/100  # 6\n",
    "a = a*(100 + 4.08)/100  # 7\n",
    "a = a*(100 + 0.59)/100  # 8\n",
    "a = a*(100 - 4.13)/100  # 9\n",
    "# a = a*(100 + 4.15)/100  # 10\n",
    "# a = a*(100 - 3.57)/100  # 11\n",
    "# a = a*(100 - 14.27)/100  # 12\n",
    "a"
   ]
  },
  {
   "cell_type": "code",
   "execution_count": 4,
   "metadata": {},
   "outputs": [
    {
     "data": {
      "text/plain": [
       "124.37720431017557"
      ]
     },
     "execution_count": 4,
     "metadata": {},
     "output_type": "execute_result"
    }
   ],
   "source": [
    "a"
   ]
  },
  {
   "cell_type": "code",
   "execution_count": null,
   "metadata": {},
   "outputs": [],
   "source": []
  },
  {
   "cell_type": "code",
   "execution_count": 14,
   "metadata": {},
   "outputs": [],
   "source": [
    "a = 100"
   ]
  },
  {
   "cell_type": "code",
   "execution_count": 15,
   "metadata": {},
   "outputs": [
    {
     "data": {
      "text/plain": [
       "139.9652932557225"
      ]
     },
     "execution_count": 15,
     "metadata": {},
     "output_type": "execute_result"
    }
   ],
   "source": [
    "# ETF Core SP500\n",
    "# 2021  \n",
    "a = a*(100 + 0.19)/100  # 1\n",
    "a = a*(100 + 4.54)/100  # 2\n",
    "a = a*(100 + 6.76)/100  # 3 \n",
    "a = a*(100 + 2.37)/100  # 4\n",
    "a = a*(100 - 1.15)/100   # 5\n",
    "a = a*(100 + 5.69)/100  # 6\n",
    "a = a*(100 + 2.54)/100  # 7\n",
    "a = a*(100 + 3.54)/100  # 8\n",
    "a = a*(100 - 2.42)/100  # 9\n",
    "a = a*(100 + 6.39)/100  # 10\n",
    "a = a*(100 + 1.66)/100  # 11\n",
    "a = a*(100 + 4.45)/100  # 12\n",
    "a"
   ]
  },
  {
   "cell_type": "code",
   "execution_count": 16,
   "metadata": {},
   "outputs": [
    {
     "data": {
      "text/plain": [
       "118.38332611015339"
      ]
     },
     "execution_count": 16,
     "metadata": {},
     "output_type": "execute_result"
    }
   ],
   "source": [
    "# 2022 \n",
    "a = a*(100 - 5.49)/100  # 1\n",
    "a = a*(100 - 3.62)/100  # 2\n",
    "a = a*(100 + 7.79)/100  # 3 \n",
    "a = a*(100 - 4.68)/100  # 4\n",
    "a = a*(100 - 1.57)/100  # 5\n",
    "a = a*(100 - 6.88)/100  # 6\n",
    "a = a*(100 + 11.93)/100 # 7\n",
    "a = a*(100 - 2.72)/100  # 8\n",
    "a = a*(100 - 7.22)/100  # 9\n",
    "a = a*(100 + 6.83)/100  # 10\n",
    "a = a*(100 - 2.56)/100  # 11\n",
    "a = a*(100 - 6.24)/100  # 12\n",
    "a"
   ]
  },
  {
   "cell_type": "code",
   "execution_count": 17,
   "metadata": {},
   "outputs": [
    {
     "data": {
      "text/plain": [
       "135.27681656544786"
      ]
     },
     "execution_count": 17,
     "metadata": {},
     "output_type": "execute_result"
    }
   ],
   "source": [
    "# 2023 \n",
    "a = a*(100 + 4.54)/100  # 1\n",
    "a = a*(100 + 0.51)/100  # 2\n",
    "a = a*(100 + 0.55)/100  # 3\n",
    "a = a*(100 - 0.04)/100  # 4\n",
    "a = a*(100 + 3.78)/100  # 5\n",
    "a = a*(100 + 4.57)/100  # 6\n",
    "a = a*(100 + 2.41)/100  # 7\n",
    "a = a*(100 + 0.09)/100  # 8\n",
    "a = a*(100 - 2.73)/100  # 9\n",
    "a"
   ]
  },
  {
   "cell_type": "code",
   "execution_count": 18,
   "metadata": {},
   "outputs": [
    {
     "data": {
      "text/plain": [
       "135.27681656544786"
      ]
     },
     "execution_count": 18,
     "metadata": {},
     "output_type": "execute_result"
    }
   ],
   "source": [
    "a"
   ]
  },
  {
   "cell_type": "code",
   "execution_count": null,
   "metadata": {},
   "outputs": [],
   "source": []
  },
  {
   "cell_type": "code",
   "execution_count": null,
   "metadata": {},
   "outputs": [],
   "source": []
  },
  {
   "cell_type": "code",
   "execution_count": null,
   "metadata": {},
   "outputs": [],
   "source": []
  },
  {
   "cell_type": "code",
   "execution_count": null,
   "metadata": {},
   "outputs": [],
   "source": []
  },
  {
   "cell_type": "code",
   "execution_count": null,
   "metadata": {},
   "outputs": [],
   "source": []
  },
  {
   "cell_type": "code",
   "execution_count": null,
   "metadata": {},
   "outputs": [],
   "source": []
  },
  {
   "cell_type": "code",
   "execution_count": 2,
   "metadata": {
    "scrolled": false
   },
   "outputs": [
    {
     "name": "stdout",
     "output_type": "stream",
     "text": [
      "1 th monthly investing:  8080.0\n",
      "1 th half:  18245.0\n",
      "2 th monthly investing:  8160.8\n",
      "2 th half:  27682.95\n",
      "3 th monthly investing:  8242.408\n",
      "3 th half:  37863.1645\n",
      "4 th monthly investing:  8324.83208\n",
      "4 th half:  48838.418095\n",
      "5 th monthly investing:  8408.0804008\n",
      "5 th half:  60665.187762450005\n",
      "6 th monthly investing:  8492.161204807999\n",
      "6 th half:  73403.9121106295\n",
      "7 th monthly investing:  8577.082816856078\n",
      "7 th half:  87119.26877522966\n",
      "8 th monthly investing:  8662.85364502464\n",
      "8 th half:  101880.47123452037\n",
      "9 th monthly investing:  8749.482181474887\n",
      "9 th half:  117761.58640241169\n",
      "10 th monthly investing:  8836.977003289636\n",
      "10 th half:  134841.87445387014\n",
      "Cash:  71697.4515584\n",
      "Stock:  134841.87445387014\n"
     ]
    }
   ],
   "source": [
    "cash = 8000\n",
    "investing = 9500  \n",
    "\n",
    "yearly_cash = 12000\n",
    "half_investing = 8000\n",
    "\n",
    "for i in range(1, 6):  # 5 years\n",
    "    yearly_cash = yearly_cash * 1.02\n",
    "    cash += yearly_cash\n",
    "        \n",
    "        \n",
    "for j in range(1,11):  # 5 years - 6 months rebalancing\n",
    "    half_investing = half_investing*1.01\n",
    "    print(j, \"th monthly investing: \", half_investing)\n",
    "    \n",
    "    investing = investing * (1.07) + half_investing \n",
    "    print(j,\"th half: \", investing)\n",
    "\n",
    "print(\"Cash: \", cash)\n",
    "print(\"Stock: \", investing)"
   ]
  },
  {
   "cell_type": "code",
   "execution_count": 17,
   "metadata": {},
   "outputs": [
    {
     "name": "stdout",
     "output_type": "stream",
     "text": [
      "206539.32601227015\n"
     ]
    }
   ],
   "source": [
    "TotalAsset = cash + investing\n",
    "print(TotalAsset)"
   ]
  },
  {
   "cell_type": "code",
   "execution_count": 18,
   "metadata": {},
   "outputs": [
    {
     "data": {
      "text/plain": [
       "138000"
      ]
     },
     "execution_count": 18,
     "metadata": {},
     "output_type": "execute_result"
    }
   ],
   "source": [
    "2300*12*5"
   ]
  },
  {
   "cell_type": "code",
   "execution_count": null,
   "metadata": {},
   "outputs": [],
   "source": []
  },
  {
   "cell_type": "code",
   "execution_count": null,
   "metadata": {},
   "outputs": [],
   "source": []
  },
  {
   "cell_type": "code",
   "execution_count": null,
   "metadata": {},
   "outputs": [],
   "source": []
  },
  {
   "cell_type": "code",
   "execution_count": 2,
   "metadata": {},
   "outputs": [
    {
     "data": {
      "text/plain": [
       "7.224761580900886e-11"
      ]
     },
     "execution_count": 2,
     "metadata": {},
     "output_type": "execute_result"
    }
   ],
   "source": [
    "pro = 1/49\n",
    "pro**6"
   ]
  },
  {
   "cell_type": "code",
   "execution_count": null,
   "metadata": {},
   "outputs": [],
   "source": []
  },
  {
   "cell_type": "code",
   "execution_count": null,
   "metadata": {},
   "outputs": [],
   "source": []
  },
  {
   "cell_type": "code",
   "execution_count": null,
   "metadata": {},
   "outputs": [],
   "source": []
  },
  {
   "cell_type": "code",
   "execution_count": null,
   "metadata": {},
   "outputs": [],
   "source": []
  },
  {
   "cell_type": "code",
   "execution_count": null,
   "metadata": {},
   "outputs": [],
   "source": []
  },
  {
   "cell_type": "code",
   "execution_count": null,
   "metadata": {},
   "outputs": [],
   "source": []
  },
  {
   "cell_type": "code",
   "execution_count": null,
   "metadata": {},
   "outputs": [],
   "source": []
  },
  {
   "cell_type": "code",
   "execution_count": null,
   "metadata": {},
   "outputs": [],
   "source": [
    "a = a*(a - 0.71)"
   ]
  },
  {
   "cell_type": "code",
   "execution_count": 10,
   "metadata": {},
   "outputs": [
    {
     "data": {
      "text/plain": [
       "102.01"
      ]
     },
     "execution_count": 10,
     "metadata": {},
     "output_type": "execute_result"
    }
   ],
   "source": [
    "101 + 101*0.01 = 101(1 - 0.01)"
   ]
  },
  {
   "cell_type": "code",
   "execution_count": null,
   "metadata": {},
   "outputs": [],
   "source": [
    "a + a*0.98"
   ]
  },
  {
   "cell_type": "code",
   "execution_count": 27,
   "metadata": {},
   "outputs": [
    {
     "data": {
      "text/plain": [
       "98.44000000000001"
      ]
     },
     "execution_count": 27,
     "metadata": {},
     "output_type": "execute_result"
    }
   ],
   "source": [
    "(1-0.0156)*100"
   ]
  },
  {
   "cell_type": "code",
   "execution_count": 29,
   "metadata": {},
   "outputs": [],
   "source": [
    "house_index = 1"
   ]
  },
  {
   "cell_type": "code",
   "execution_count": 30,
   "metadata": {},
   "outputs": [],
   "source": [
    "house_index = house_index * 1.014\n",
    "house_index = house_index * 1.009\n",
    "house_index = house_index * 1.011\n",
    "house_index = house_index * 1.035\n",
    "house_index = house_index * 1.035\n",
    "house_index = house_index * 1.031\n",
    "house_index = house_index * 1.031\n",
    "house_index = house_index * 1.047\n",
    "house_index = house_index * 1.075\n",
    "house_index = house_index * 1.061\n",
    "house_index = house_index * 1.067\n",
    "house_index = house_index * 1.058\n",
    "house_index = house_index * 1.078\n",
    "house_index = house_index * 1.110"
   ]
  },
  {
   "cell_type": "code",
   "execution_count": 31,
   "metadata": {},
   "outputs": [
    {
     "data": {
      "text/plain": [
       "1.2331757862837616"
      ]
     },
     "execution_count": 31,
     "metadata": {},
     "output_type": "execute_result"
    }
   ],
   "source": [
    "house_index"
   ]
  },
  {
   "cell_type": "code",
   "execution_count": 28,
   "metadata": {},
   "outputs": [
    {
     "data": {
      "text/plain": [
       "1.5199547207520077"
      ]
     },
     "execution_count": 28,
     "metadata": {},
     "output_type": "execute_result"
    }
   ],
   "source": [
    "house_index *0.8"
   ]
  },
  {
   "cell_type": "code",
   "execution_count": 22,
   "metadata": {},
   "outputs": [],
   "source": [
    "class First(object):\n",
    "    def __init__(self):\n",
    "        super(First, self).__init__()\n",
    "        print(\"first\")\n",
    "\n",
    "class Second(object):\n",
    "    def __init__(self):\n",
    "        super(Second, self).__init__()\n",
    "        print(\"second\")\n",
    "\n",
    "class Third(First, Second):\n",
    "    def __init__(self):\n",
    "        super(First, self).__init__()\n",
    "        print(\"third\")"
   ]
  },
  {
   "cell_type": "code",
   "execution_count": 23,
   "metadata": {},
   "outputs": [
    {
     "name": "stdout",
     "output_type": "stream",
     "text": [
      "first\n"
     ]
    }
   ],
   "source": [
    "first = First()"
   ]
  },
  {
   "cell_type": "code",
   "execution_count": 24,
   "metadata": {},
   "outputs": [
    {
     "name": "stdout",
     "output_type": "stream",
     "text": [
      "second\n"
     ]
    }
   ],
   "source": [
    "second = Second()"
   ]
  },
  {
   "cell_type": "code",
   "execution_count": 25,
   "metadata": {},
   "outputs": [
    {
     "name": "stdout",
     "output_type": "stream",
     "text": [
      "second\n",
      "third\n"
     ]
    }
   ],
   "source": [
    "third = Third()"
   ]
  },
  {
   "cell_type": "code",
   "execution_count": null,
   "metadata": {},
   "outputs": [],
   "source": []
  }
 ],
 "metadata": {
  "kernelspec": {
   "display_name": "Python 3 (ipykernel)",
   "language": "python",
   "name": "python3"
  },
  "language_info": {
   "codemirror_mode": {
    "name": "ipython",
    "version": 3
   },
   "file_extension": ".py",
   "mimetype": "text/x-python",
   "name": "python",
   "nbconvert_exporter": "python",
   "pygments_lexer": "ipython3",
   "version": "3.9.13"
  }
 },
 "nbformat": 4,
 "nbformat_minor": 4
}
